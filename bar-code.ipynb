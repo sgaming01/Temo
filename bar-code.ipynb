{
 "cells": [
  {
   "cell_type": "code",
   "execution_count": 1,
   "id": "58d134bf-d4ec-4eb7-8a28-619b6b414344",
   "metadata": {},
   "outputs": [
    {
     "name": "stdout",
     "output_type": "stream",
     "text": [
      "Collecting pyzbar\n",
      "  Downloading pyzbar-0.1.9-py2.py3-none-any.whl.metadata (10 kB)\n",
      "Requirement already satisfied: Pillow in /home/siddhartht/anaconda3/envs/test_env/lib/python3.10/site-packages (10.2.0)\n",
      "Downloading pyzbar-0.1.9-py2.py3-none-any.whl (32 kB)\n",
      "Installing collected packages: pyzbar\n",
      "Successfully installed pyzbar-0.1.9\n"
     ]
    }
   ],
   "source": [
    "!pip install pyzbar Pillow\n"
   ]
  },
  {
   "cell_type": "code",
   "execution_count": 2,
   "id": "3661fcd6-dce7-4628-b60f-07de09379cef",
   "metadata": {},
   "outputs": [
    {
     "name": "stdout",
     "output_type": "stream",
     "text": [
      " 1_k0h04CRy0j8MbBbqsodGAA.png\n",
      " C248651509_December.pdf\n",
      " C248651509_June-combined.pdf\n",
      " C248651509_June.pdf\n",
      " Education_Loan_Provisional_certificate_2023-2024.pdf\n",
      " FlightTicket.pdf\n",
      "'House-Rent-Receipt copy.pdf'\n",
      " Untitled.ipynb\n"
     ]
    }
   ],
   "source": [
    "!ls"
   ]
  },
  {
   "cell_type": "code",
   "execution_count": null,
   "id": "175bd21e-bf30-40b9-9b38-3c1982a9915f",
   "metadata": {},
   "outputs": [],
   "source": [
    "#sudo apt-get install zbar-tools"
   ]
  },
  {
   "cell_type": "markdown",
   "id": "3c738cbb-e7f5-4d6d-97e6-a3ec4306090a",
   "metadata": {},
   "source": [
    "```\n",
    "Reading package lists... Done\n",
    "Building dependency tree... Done\n",
    "Reading state information... Done\n",
    "The following additional packages will be installed:\n",
    "  imagemagick-6-common libjxr-tools libjxr0t64 liblqr-1-0\n",
    "  libmagickcore-6.q16-7-extra libmagickcore-6.q16-7t64\n",
    "  libmagickwand-6.q16-7t64 libzbar0t64\n",
    "Suggested packages:\n",
    "  inkscape zbarcam-gtk zbarcam-qt\n",
    "The following NEW packages will be installed:\n",
    "  imagemagick-6-common libjxr-tools libjxr0t64 liblqr-1-0\n",
    "  libmagickcore-6.q16-7-extra libmagickcore-6.q16-7t64\n",
    "  libmagickwand-6.q16-7t64 libzbar0t64 zbar-tools\n",
    "0 upgraded, 9 newly installed, 0 to remove and 60 not upgraded.\n",
    "Need to get 2,640 kB of archives.\n",
    "After this operation, 9,927 kB of additional disk space will be used.\n",
    "Do you want to continue? [Y/n] y\n",
    "Get:1 http://in.archive.ubuntu.com/ubuntu noble/universe amd64 liblqr-1-0 amd64 0.4.2-2.1build2 [28.5 kB]\n",
    "Get:2 http://in.archive.ubuntu.com/ubuntu noble/universe amd64 imagemagick-6-common all 8:6.9.12.98+dfsg1-5.2build2 [69.5 kB]\n",
    "Get:3 http://in.archive.ubuntu.com/ubuntu noble/universe amd64 libmagickcore-6.q16-7t64 amd64 8:6.9.12.98+dfsg1-5.2build2 [1,811 kB]\n",
    "Get:4 http://in.archive.ubuntu.com/ubuntu noble/universe amd64 libmagickwand-6.q16-7t64 amd64 8:6.9.12.98+dfsg1-5.2build2 [318 kB]\n",
    "Get:5 http://in.archive.ubuntu.com/ubuntu noble/universe amd64 libjxr0t64 amd64 1.2~git20170615.f752187-5.1ubuntu2 [181 kB]\n",
    "Get:6 http://in.archive.ubuntu.com/ubuntu noble/universe amd64 libjxr-tools amd64 1.2~git20170615.f752187-5.1ubuntu2 [15.8 kB]\n",
    "Get:7 http://in.archive.ubuntu.com/ubuntu noble/universe amd64 libmagickcore-6.q16-7-extra amd64 8:6.9.12.98+dfsg1-5.2build2 [70.1 kB]\n",
    "Get:8 http://in.archive.ubuntu.com/ubuntu noble/universe amd64 libzbar0t64 amd64 0.23.93-4build3 [123 kB]\n",
    "Get:9 http://in.archive.ubuntu.com/ubuntu noble/universe amd64 zbar-tools amd64 0.23.93-4build3 [22.4 kB]\n",
    "Fetched 2,640 kB in 4s (643 kB/s)      \n",
    "Selecting previously unselected package liblqr-1-0:amd64.\n",
    "(Reading database ... 219251 files and directories currently installed.)\n",
    "Preparing to unpack .../0-liblqr-1-0_0.4.2-2.1build2_amd64.deb ...\n",
    "Unpacking liblqr-1-0:amd64 (0.4.2-2.1build2) ...\n",
    "Selecting previously unselected package imagemagick-6-common.\n",
    "Preparing to unpack .../1-imagemagick-6-common_8%3a6.9.12.98+dfsg1-5.2build2_all.deb ...\n",
    "Unpacking imagemagick-6-common (8:6.9.12.98+dfsg1-5.2build2) ...\n",
    "Selecting previously unselected package libmagickcore-6.q16-7t64:amd64.\n",
    "Preparing to unpack .../2-libmagickcore-6.q16-7t64_8%3a6.9.12.98+dfsg1-5.2build2_amd64.deb ...\n",
    "Unpacking libmagickcore-6.q16-7t64:amd64 (8:6.9.12.98+dfsg1-5.2build2) ...\n",
    "Selecting previously unselected package libmagickwand-6.q16-7t64:amd64.\n",
    "Preparing to unpack .../3-libmagickwand-6.q16-7t64_8%3a6.9.12.98+dfsg1-5.2build2_amd64.deb ...\n",
    "Unpacking libmagickwand-6.q16-7t64:amd64 (8:6.9.12.98+dfsg1-5.2build2) ...\n",
    "Selecting previously unselected package libjxr0t64:amd64.\n",
    "Preparing to unpack .../4-libjxr0t64_1.2~git20170615.f752187-5.1ubuntu2_amd64.deb ...\n",
    "Unpacking libjxr0t64:amd64 (1.2~git20170615.f752187-5.1ubuntu2) ...\n",
    "Selecting previously unselected package libjxr-tools.\n",
    "Preparing to unpack .../5-libjxr-tools_1.2~git20170615.f752187-5.1ubuntu2_amd64.deb ...\n",
    "Unpacking libjxr-tools (1.2~git20170615.f752187-5.1ubuntu2) ...\n",
    "Selecting previously unselected package libmagickcore-6.q16-7-extra:amd64.\n",
    "Preparing to unpack .../6-libmagickcore-6.q16-7-extra_8%3a6.9.12.98+dfsg1-5.2build2_amd64.deb ...\n",
    "Unpacking libmagickcore-6.q16-7-extra:amd64 (8:6.9.12.98+dfsg1-5.2build2) ...\n",
    "Selecting previously unselected package libzbar0t64:amd64.\n",
    "Preparing to unpack .../7-libzbar0t64_0.23.93-4build3_amd64.deb ...\n",
    "Unpacking libzbar0t64:amd64 (0.23.93-4build3) ...\n",
    "Selecting previously unselected package zbar-tools.\n",
    "Preparing to unpack .../8-zbar-tools_0.23.93-4build3_amd64.deb ...\n",
    "Unpacking zbar-tools (0.23.93-4build3) ...\n",
    "Setting up imagemagick-6-common (8:6.9.12.98+dfsg1-5.2build2) ...\n",
    "Setting up libzbar0t64:amd64 (0.23.93-4build3) ...\n",
    "Setting up libjxr0t64:amd64 (1.2~git20170615.f752187-5.1ubuntu2) ...\n",
    "Setting up liblqr-1-0:amd64 (0.4.2-2.1build2) ...\n",
    "Setting up libjxr-tools (1.2~git20170615.f752187-5.1ubuntu2) ...\n",
    "Setting up libmagickcore-6.q16-7t64:amd64 (8:6.9.12.98+dfsg1-5.2build2) ...\n",
    "Setting up libmagickwand-6.q16-7t64:amd64 (8:6.9.12.98+dfsg1-5.2build2) ...\n",
    "Setting up libmagickcore-6.q16-7-extra:amd64 (8:6.9.12.98+dfsg1-5.2build2) ...\n",
    "Setting up zbar-tools (0.23.93-4build3) ...\n",
    "Processing triggers for man-db (2.12.0-4build2) ...\n",
    "Processing triggers for dbus (1.14.10-4ubuntu4) ...\n",
    "Processing triggers for libc-bin (2.39-0ubuntu8.2) ...\n",
    "```"
   ]
  },
  {
   "cell_type": "code",
   "execution_count": 1,
   "id": "486a2aff-0c40-4670-b589-b859c4de87c6",
   "metadata": {},
   "outputs": [
    {
     "name": "stdout",
     "output_type": "stream",
     "text": [
      "Barcode type: QRCODE\n",
      "Barcode data: https://demo.dynamsoft.com/dbr_wasm/barcode_reader_javascript.html\n"
     ]
    }
   ],
   "source": [
    "from pyzbar.pyzbar import decode\n",
    "from PIL import Image\n",
    "\n",
    "# Load the image containing the barcode\n",
    "image = Image.open('1_k0h04CRy0j8MbBbqsodGAA.png')\n",
    "\n",
    "# Decode the barcode from the image\n",
    "barcodes = decode(image)\n",
    "\n",
    "# Iterate through detected barcodes and print their data\n",
    "for barcode in barcodes:\n",
    "    barcode_data = barcode.data.decode('utf-8')\n",
    "    barcode_type = barcode.type\n",
    "    print(f\"Barcode type: {barcode_type}\")\n",
    "    print(f\"Barcode data: {barcode_data}\")\n"
   ]
  },
  {
   "cell_type": "code",
   "execution_count": 2,
   "id": "01f892c1-7b61-4d9c-bde7-dc0d2a392272",
   "metadata": {},
   "outputs": [
    {
     "name": "stdout",
     "output_type": "stream",
     "text": [
      "Collecting qrcode[pil]\n",
      "  Downloading qrcode-7.4.2-py3-none-any.whl.metadata (17 kB)\n",
      "Requirement already satisfied: typing-extensions in /home/siddhartht/anaconda3/envs/test_env/lib/python3.10/site-packages (from qrcode[pil]) (4.9.0)\n",
      "Collecting pypng (from qrcode[pil])\n",
      "  Downloading pypng-0.20220715.0-py3-none-any.whl.metadata (13 kB)\n",
      "Requirement already satisfied: pillow>=9.1.0 in /home/siddhartht/anaconda3/envs/test_env/lib/python3.10/site-packages (from qrcode[pil]) (10.2.0)\n",
      "Downloading pypng-0.20220715.0-py3-none-any.whl (58 kB)\n",
      "\u001b[2K   \u001b[38;2;114;156;31m━━━━━━━━━━━━━━━━━━━━━━━━━━━━━━━━━━━━━━━━\u001b[0m \u001b[32m58.1/58.1 kB\u001b[0m \u001b[31m5.3 MB/s\u001b[0m eta \u001b[36m0:00:00\u001b[0m\n",
      "\u001b[?25hDownloading qrcode-7.4.2-py3-none-any.whl (46 kB)\n",
      "\u001b[2K   \u001b[38;2;114;156;31m━━━━━━━━━━━━━━━━━━━━━━━━━━━━━━━━━━━━━━━━\u001b[0m \u001b[32m46.2/46.2 kB\u001b[0m \u001b[31m12.1 MB/s\u001b[0m eta \u001b[36m0:00:00\u001b[0m\n",
      "\u001b[?25hInstalling collected packages: pypng, qrcode\n",
      "Successfully installed pypng-0.20220715.0 qrcode-7.4.2\n"
     ]
    }
   ],
   "source": [
    "!pip install qrcode[pil]\n"
   ]
  },
  {
   "cell_type": "code",
   "execution_count": 1,
   "id": "4517ce30-8c2e-42b0-879e-11a90802844b",
   "metadata": {},
   "outputs": [],
   "source": [
    "import qrcode\n",
    "import json\n",
    "\n",
    "# Sample JSON data\n",
    "data = {\n",
    "    \"transaction_id\": \"NEFT20240809001\",\n",
    "    \"date\": \"2024-08-09\",\n",
    "    \"sender_details\": {\n",
    "        \"account_number\": \"123456789012\",\n",
    "        \"account_name\": \"John Doe\",\n",
    "        \"bank_name\": \"ABC Bank\",\n",
    "        \"branch_name\": \"Main Branch\",\n",
    "        \"ifsc_code\": \"ABCD0123456\",\n",
    "        \"contact_number\": \"+1-234-567-8901\",\n",
    "        \"email\": \"johndoe@example.com\"\n",
    "    },\n",
    "    \"receiver_details\": {\n",
    "        \"account_number\": \"987654321098\",\n",
    "        \"account_name\": \"Jane Smith\",\n",
    "        \"bank_name\": \"XYZ Bank\",\n",
    "        \"branch_name\": \"City Branch\",\n",
    "        \"ifsc_code\": \"XYZB0987654\",\n",
    "        \"contact_number\": \"+1-987-654-3210\",\n",
    "        \"email\": \"janesmith@example.com\"\n",
    "    },\n",
    "    \"transaction_details\": {\n",
    "        \"amount\": 5000.00,\n",
    "        \"currency\": \"INR\",\n",
    "        \"purpose\": \"Personal\",\n",
    "        \"remarks\": \"Gift\"\n",
    "    },\n",
    "    \"authorization\": {\n",
    "        \"otp\": \"123456\",\n",
    "        \"authorization_mode\": \"SMS\"\n",
    "    },\n",
    "    \"status\": \"Pending\"\n",
    "}\n",
    "\n",
    "# Convert the dictionary to a JSON string\n",
    "json_data = json.dumps(data)\n",
    "\n",
    "# Generate the QR code\n",
    "qr = qrcode.QRCode(\n",
    "    version=1,  # controls the size of the QR code (1 is the smallest)\n",
    "    error_correction=qrcode.constants.ERROR_CORRECT_L,\n",
    "    box_size=10,\n",
    "    border=4,\n",
    ")\n",
    "qr.add_data(json_data)\n",
    "qr.make(fit=True)\n",
    "\n",
    "# Create an image from the QR Code instance\n",
    "img = qr.make_image(fill_color=\"black\", back_color=\"white\")\n",
    "\n",
    "# Save the image to a file\n",
    "img.save(\"neft_qr_code.png\")\n",
    "\n",
    "# Optional: Display the image\n",
    "img.show()\n"
   ]
  },
  {
   "cell_type": "code",
   "execution_count": 2,
   "id": "f841daa1-8b3d-402d-9731-0b3357fbcb00",
   "metadata": {},
   "outputs": [
    {
     "name": "stdout",
     "output_type": "stream",
     "text": [
      "Extracted Data:\n",
      "{\n",
      "    \"transaction_id\": \"NEFT20240809001\",\n",
      "    \"date\": \"2024-08-09\",\n",
      "    \"sender_details\": {\n",
      "        \"account_number\": \"123456789012\",\n",
      "        \"account_name\": \"John Doe\",\n",
      "        \"bank_name\": \"ABC Bank\",\n",
      "        \"branch_name\": \"Main Branch\",\n",
      "        \"ifsc_code\": \"ABCD0123456\",\n",
      "        \"contact_number\": \"+1-234-567-8901\",\n",
      "        \"email\": \"johndoe@example.com\"\n",
      "    },\n",
      "    \"receiver_details\": {\n",
      "        \"account_number\": \"987654321098\",\n",
      "        \"account_name\": \"Jane Smith\",\n",
      "        \"bank_name\": \"XYZ Bank\",\n",
      "        \"branch_name\": \"City Branch\",\n",
      "        \"ifsc_code\": \"XYZB0987654\",\n",
      "        \"contact_number\": \"+1-987-654-3210\",\n",
      "        \"email\": \"janesmith@example.com\"\n",
      "    },\n",
      "    \"transaction_details\": {\n",
      "        \"amount\": 5000.0,\n",
      "        \"currency\": \"INR\",\n",
      "        \"purpose\": \"Personal\",\n",
      "        \"remarks\": \"Gift\"\n",
      "    },\n",
      "    \"authorization\": {\n",
      "        \"otp\": \"123456\",\n",
      "        \"authorization_mode\": \"SMS\"\n",
      "    },\n",
      "    \"status\": \"Pending\"\n",
      "}\n",
      "\n",
      "Transaction ID: NEFT20240809001\n",
      "Sender Account Name: John Doe\n",
      "Receiver Account Name: Jane Smith\n",
      "Amount: 5000.0\n"
     ]
    }
   ],
   "source": [
    "from pyzbar.pyzbar import decode\n",
    "from PIL import Image\n",
    "import json\n",
    "\n",
    "# Load the image containing the QR code\n",
    "img = Image.open('neft_qr_code.png')\n",
    "\n",
    "# Decode the QR code\n",
    "decoded_objects = decode(img)\n",
    "\n",
    "# Iterate through the decoded objects\n",
    "for obj in decoded_objects:\n",
    "    # Extract the data and convert it back to a dictionary\n",
    "    qr_data = obj.data.decode('utf-8')\n",
    "    data_dict = json.loads(qr_data)\n",
    "    \n",
    "    # Print the extracted JSON data\n",
    "    print(\"Extracted Data:\")\n",
    "    print(json.dumps(data_dict, indent=4))\n",
    "\n",
    "# Example of accessing specific fields\n",
    "if data_dict:\n",
    "    print(\"\\nTransaction ID:\", data_dict['transaction_id'])\n",
    "    print(\"Sender Account Name:\", data_dict['sender_details']['account_name'])\n",
    "    print(\"Receiver Account Name:\", data_dict['receiver_details']['account_name'])\n",
    "    print(\"Amount:\", data_dict['transaction_details']['amount'])\n"
   ]
  },
  {
   "cell_type": "code",
   "execution_count": null,
   "id": "ce09230b-3a1c-4bf7-bcad-c9a3009bdfa7",
   "metadata": {},
   "outputs": [],
   "source": []
  }
 ],
 "metadata": {
  "kernelspec": {
   "display_name": "Python 3 (ipykernel)",
   "language": "python",
   "name": "python3"
  },
  "language_info": {
   "codemirror_mode": {
    "name": "ipython",
    "version": 3
   },
   "file_extension": ".py",
   "mimetype": "text/x-python",
   "name": "python",
   "nbconvert_exporter": "python",
   "pygments_lexer": "ipython3",
   "version": "3.10.9"
  }
 },
 "nbformat": 4,
 "nbformat_minor": 5
}
